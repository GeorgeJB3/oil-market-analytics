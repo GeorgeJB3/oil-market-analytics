{
 "cells": [
  {
   "cell_type": "markdown",
   "metadata": {
    "application/vnd.databricks.v1+cell": {
     "cellMetadata": {
      "byteLimit": 2048000,
      "rowLimit": 10000
     },
     "inputWidgets": {},
     "nuid": "5b510896-9e08-4107-bb60-3e5aa84e9cd3",
     "showTitle": false,
     "tableResultSettingsMap": {},
     "title": ""
    }
   },
   "source": [
    "# Bronze Layer – Data Ingestion Pipeline"
   ]
  },
  {
   "cell_type": "markdown",
   "metadata": {
    "application/vnd.databricks.v1+cell": {
     "cellMetadata": {
      "byteLimit": 2048000,
      "rowLimit": 10000
     },
     "inputWidgets": {},
     "nuid": "4c2033ac-2af8-4a29-a881-beb536be1e32",
     "showTitle": false,
     "tableResultSettingsMap": {},
     "title": ""
    }
   },
   "source": [
    "**Purpose:**\n",
    "This notebook orchestrates the Bronze layer ingestion for all UK and US economic datasets used in the Oil Market Analytics project.\n",
    "It executes source-specific ingestion functions to extract and store raw data from APIs and files into Delta tables, preserving the original schema and structure for full traceability.\n",
    "\n",
    "**Scope:**\n",
    "\n",
    "Bank of England datasets (Interest Rate, GDP, CPI)\n",
    "\n",
    "UK Unemployment data\n",
    "\n",
    "Energy price data (WTI, Brent, Natural Gas)\n",
    "\n",
    "Federal Reserve datasets (Interest Rate, GDP, CPI, Uemployment)\n",
    "\n",
    "**Process Overview:**\n",
    "\n",
    "Extract: Pulls data from public APIs and local Excel files.\n",
    "\n",
    "Load: Writes raw datasets into the Bronze Delta tables under the oil_analytics schema.\n",
    "\n",
    "Validate: Performs basic checks — table existence, ingestion timestamps, record counts, duplicate counts and null column names.\n",
    "\n",
    "**Outputs:**\n",
    "All raw data stored as Delta tables in the Bronze layer, e.g.:\n",
    "\n",
    "oil_analytics.bronze_energy_prices\n",
    "\n",
    "oil_analytics.bronze_ftse100\n",
    "\n",
    "oil_analytics.bronze_uk_unemployment\n",
    "\n",
    "oil_analytics.bronze_fed_cpi\n",
    "\n",
    "oil_analytics.bronze_fed_interest_rate"
   ]
  },
  {
   "cell_type": "markdown",
   "metadata": {
    "application/vnd.databricks.v1+cell": {
     "cellMetadata": {
      "byteLimit": 2048000,
      "rowLimit": 10000
     },
     "inputWidgets": {},
     "nuid": "fd02245b-58b3-4c48-b608-bc0fdb6156bd",
     "showTitle": false,
     "tableResultSettingsMap": {},
     "title": ""
    }
   },
   "source": [
    "### Set up"
   ]
  },
  {
   "cell_type": "code",
   "execution_count": 0,
   "metadata": {
    "application/vnd.databricks.v1+cell": {
     "cellMetadata": {
      "byteLimit": 2048000,
      "rowLimit": 10000
     },
     "inputWidgets": {},
     "nuid": "08c6398e-03de-4d4b-922b-275500e17df9",
     "showTitle": false,
     "tableResultSettingsMap": {},
     "title": ""
    }
   },
   "outputs": [],
   "source": [
    "dbutils.library.restartPython()"
   ]
  },
  {
   "cell_type": "code",
   "execution_count": 0,
   "metadata": {
    "application/vnd.databricks.v1+cell": {
     "cellMetadata": {
      "byteLimit": 2048000,
      "rowLimit": 10000
     },
     "inputWidgets": {},
     "nuid": "c6395cc7-ca92-4bdd-a888-3f1aa453bb38",
     "showTitle": false,
     "tableResultSettingsMap": {},
     "title": ""
    }
   },
   "outputs": [],
   "source": [
    "%pip install -r ../requirements.txt"
   ]
  },
  {
   "cell_type": "markdown",
   "metadata": {
    "application/vnd.databricks.v1+cell": {
     "cellMetadata": {
      "byteLimit": 2048000,
      "rowLimit": 10000
     },
     "inputWidgets": {},
     "nuid": "adba77d5-742c-4fc2-8d37-f610e7ab5ee0",
     "showTitle": false,
     "tableResultSettingsMap": {},
     "title": ""
    }
   },
   "source": [
    "Imports"
   ]
  },
  {
   "cell_type": "code",
   "execution_count": 0,
   "metadata": {
    "application/vnd.databricks.v1+cell": {
     "cellMetadata": {
      "byteLimit": 2048000,
      "rowLimit": 10000
     },
     "inputWidgets": {},
     "nuid": "69caabed-6e58-459b-b815-1a67f59e978f",
     "showTitle": false,
     "tableResultSettingsMap": {},
     "title": ""
    }
   },
   "outputs": [],
   "source": [
    "from src.transforms.bronze_layer.bronze_energy_prices import generate_bronze_energy_price_table\n",
    "from src.transforms.bronze_layer.bronze_index import generate_bronze_index_tables\n",
    "from src.transforms.bronze_layer.bronze_macro import generate_bronze_macro_tables\n",
    "from src.transforms.bronze_layer.bronze_macro_local import generate_bronze_macro_local_tables"
   ]
  },
  {
   "cell_type": "code",
   "execution_count": 0,
   "metadata": {
    "application/vnd.databricks.v1+cell": {
     "cellMetadata": {
      "byteLimit": 2048000,
      "rowLimit": 10000
     },
     "inputWidgets": {},
     "nuid": "6c9ad722-a1d5-41c4-b2ec-91b54520f717",
     "showTitle": false,
     "tableResultSettingsMap": {},
     "title": ""
    }
   },
   "outputs": [],
   "source": [
    "from pyspark.sql.functions import max"
   ]
  },
  {
   "cell_type": "markdown",
   "metadata": {
    "application/vnd.databricks.v1+cell": {
     "cellMetadata": {
      "byteLimit": 2048000,
      "rowLimit": 10000
     },
     "inputWidgets": {},
     "nuid": "3b338b8a-a4f2-46c2-8e31-002e5e199a14",
     "showTitle": false,
     "tableResultSettingsMap": {},
     "title": ""
    }
   },
   "source": [
    "## Generate Bronze Tables"
   ]
  },
  {
   "cell_type": "code",
   "execution_count": 0,
   "metadata": {
    "application/vnd.databricks.v1+cell": {
     "cellMetadata": {
      "byteLimit": 2048000,
      "rowLimit": 10000
     },
     "inputWidgets": {},
     "nuid": "707cec77-c716-4ec2-9a00-c17b8c7be15c",
     "showTitle": false,
     "tableResultSettingsMap": {},
     "title": ""
    }
   },
   "outputs": [],
   "source": [
    "generate_bronze_energy_price_table(spark)\n",
    "generate_bronze_index_tables(spark)\n",
    "generate_bronze_macro_tables(spark)\n",
    "generate_bronze_macro_local_tables(spark)"
   ]
  },
  {
   "cell_type": "markdown",
   "metadata": {
    "application/vnd.databricks.v1+cell": {
     "cellMetadata": {
      "byteLimit": 2048000,
      "rowLimit": 10000
     },
     "inputWidgets": {},
     "nuid": "c43c552c-3388-4031-a1e6-5ad73bc8beef",
     "showTitle": false,
     "tableResultSettingsMap": {},
     "title": ""
    }
   },
   "source": [
    "### Validation checks"
   ]
  },
  {
   "cell_type": "markdown",
   "metadata": {
    "application/vnd.databricks.v1+cell": {
     "cellMetadata": {
      "byteLimit": 2048000,
      "rowLimit": 10000
     },
     "inputWidgets": {},
     "nuid": "3b574bd3-87af-4be7-91bc-7e68d64298fd",
     "showTitle": false,
     "tableResultSettingsMap": {},
     "title": ""
    }
   },
   "source": [
    "Load tables for validation"
   ]
  },
  {
   "cell_type": "code",
   "execution_count": 0,
   "metadata": {
    "application/vnd.databricks.v1+cell": {
     "cellMetadata": {
      "byteLimit": 2048000,
      "rowLimit": 10000
     },
     "inputWidgets": {},
     "nuid": "59cd3a46-7c6d-4166-b79a-7ab11286f8d7",
     "showTitle": false,
     "tableResultSettingsMap": {},
     "title": ""
    }
   },
   "outputs": [],
   "source": [
    "energy_price_df = spark.table(\"oil_analytics.bronze_energy_prices\")\n",
    "\n",
    "sp500_df = spark.table(\"oil_analytics.bronze_sp500\")\n",
    "ftse100_df = spark.table(\"oil_analytics.bronze_ftse100\")\n",
    "dollar_index_df = spark.table(\"oil_analytics.bronze_dollar_index\")\n",
    "\n",
    "uk_unemployment_df = spark.table(\"oil_analytics.bronze_uk_unemployment\")\n",
    "uk_cpi_df = spark.table(\"oil_analytics.bronze_uk_cpi\")\n",
    "uk_gdp_df = spark.table(\"oil_analytics.bronze_uk_gdp\")\n",
    "uk_interest_rate_df = spark.table(\"oil_analytics.bronze_uk_interest_rate\")\n",
    "fed_unemployment_df = spark.table(\"oil_analytics.bronze_fed_unemployment\")\n",
    "fed_cpi_df = spark.table(\"oil_analytics.bronze_fed_cpi\")\n",
    "fed_gdp_df = spark.table(\"oil_analytics.bronze_fed_gdp\")\n",
    "fed_interest_rate_df = spark.table(\"oil_analytics.bronze_fed_interest_rate\")\n"
   ]
  },
  {
   "cell_type": "code",
   "execution_count": 0,
   "metadata": {
    "application/vnd.databricks.v1+cell": {
     "cellMetadata": {
      "byteLimit": 2048000,
      "rowLimit": 10000
     },
     "inputWidgets": {},
     "nuid": "426b659c-40db-4e7b-a431-c63803c81f86",
     "showTitle": false,
     "tableResultSettingsMap": {},
     "title": ""
    }
   },
   "outputs": [],
   "source": [
    "all_df = {\n",
    "    \"energy_price_df\": energy_price_df, \n",
    "    \"sp500_df\": sp500_df, \n",
    "    \"ftse100_df\": ftse100_df, \n",
    "    \"dollar_index_df\": dollar_index_df, \n",
    "    \"uk_unemployment_df\": uk_unemployment_df, \n",
    "    \"uk_cpi_df\": uk_cpi_df, \n",
    "    \"uk_gdp_df\": uk_gdp_df, \n",
    "    \"uk_interest_rate_df\": uk_interest_rate_df, \n",
    "    \"fed_unemployment_df\": fed_unemployment_df, \n",
    "    \"fed_cpi_df\": fed_cpi_df, \n",
    "    \"fed_gdp_df\": fed_gdp_df, \n",
    "    \"fed_interest_rate_df\": fed_interest_rate_df\n",
    "    }\n"
   ]
  },
  {
   "cell_type": "markdown",
   "metadata": {
    "application/vnd.databricks.v1+cell": {
     "cellMetadata": {
      "byteLimit": 2048000,
      "rowLimit": 10000
     },
     "inputWidgets": {},
     "nuid": "95caefda-e975-4284-813a-e52994626b48",
     "showTitle": false,
     "tableResultSettingsMap": {},
     "title": ""
    }
   },
   "source": [
    "Most recent Ingestion Timestamp"
   ]
  },
  {
   "cell_type": "code",
   "execution_count": 0,
   "metadata": {
    "application/vnd.databricks.v1+cell": {
     "cellMetadata": {
      "byteLimit": 2048000,
      "rowLimit": 10000
     },
     "inputWidgets": {},
     "nuid": "5b9078d9-16f7-4b5f-aa33-3682853e3228",
     "showTitle": false,
     "tableResultSettingsMap": {},
     "title": ""
    }
   },
   "outputs": [],
   "source": [
    "for k,v in all_df.items():\n",
    "    print(f\"Latest ingestion timestamp for {k}: {v.select(max(\"ingestion_timestamp\")).collect()[0][0]}\")"
   ]
  },
  {
   "cell_type": "markdown",
   "metadata": {
    "application/vnd.databricks.v1+cell": {
     "cellMetadata": {
      "byteLimit": 2048000,
      "rowLimit": 10000
     },
     "inputWidgets": {},
     "nuid": "779a1388-567b-4234-88de-522768cb34ef",
     "showTitle": false,
     "tableResultSettingsMap": {},
     "title": ""
    }
   },
   "source": [
    "Total row count for each bronze table"
   ]
  },
  {
   "cell_type": "code",
   "execution_count": 0,
   "metadata": {
    "application/vnd.databricks.v1+cell": {
     "cellMetadata": {
      "byteLimit": 2048000,
      "rowLimit": 10000
     },
     "inputWidgets": {},
     "nuid": "6f8a8607-250a-424a-ad2d-77d0bf484854",
     "showTitle": false,
     "tableResultSettingsMap": {},
     "title": ""
    }
   },
   "outputs": [],
   "source": [
    "for k,v in all_df.items():\n",
    "    print(f\"Total row count for {k}: \", v.count())"
   ]
  },
  {
   "cell_type": "markdown",
   "metadata": {
    "application/vnd.databricks.v1+cell": {
     "cellMetadata": {
      "byteLimit": 2048000,
      "rowLimit": 10000
     },
     "inputWidgets": {},
     "nuid": "304534c8-1392-43db-b879-47339c3ebae9",
     "showTitle": false,
     "tableResultSettingsMap": {},
     "title": ""
    }
   },
   "source": [
    "Check for duplicate rows"
   ]
  },
  {
   "cell_type": "code",
   "execution_count": 0,
   "metadata": {
    "application/vnd.databricks.v1+cell": {
     "cellMetadata": {
      "byteLimit": 2048000,
      "rowLimit": 10000
     },
     "inputWidgets": {},
     "nuid": "41529b61-51e2-400a-9011-27f21a068ca0",
     "showTitle": false,
     "tableResultSettingsMap": {},
     "title": ""
    }
   },
   "outputs": [],
   "source": [
    "for k,v in all_df.items():\n",
    "    print(f\"Total duplciate rows for {k}: {v.count() - v.dropDuplicates().count()}\")"
   ]
  },
  {
   "cell_type": "markdown",
   "metadata": {
    "application/vnd.databricks.v1+cell": {
     "cellMetadata": {
      "byteLimit": 2048000,
      "rowLimit": 10000
     },
     "inputWidgets": {},
     "nuid": "8b7163d1-15c3-41fa-8ec0-d8d2f05a5e37",
     "showTitle": false,
     "tableResultSettingsMap": {},
     "title": ""
    }
   },
   "source": [
    "Check for null/empty column names"
   ]
  },
  {
   "cell_type": "code",
   "execution_count": 0,
   "metadata": {
    "application/vnd.databricks.v1+cell": {
     "cellMetadata": {
      "byteLimit": 2048000,
      "rowLimit": 10000
     },
     "inputWidgets": {},
     "nuid": "1b84d701-914a-4f7d-b3a0-fd299affc791",
     "showTitle": false,
     "tableResultSettingsMap": {},
     "title": ""
    }
   },
   "outputs": [],
   "source": [
    "for k,v in all_df.items():\n",
    "    cols = v.columns\n",
    "    null_cols = [c for c in cols if c is None or c.strip() == \"\"]\n",
    "    print(f\"Total NULL column names for {k}: {len(null_cols)}\")"
   ]
  }
 ],
 "metadata": {
  "application/vnd.databricks.v1+notebook": {
   "computePreferences": null,
   "dashboards": [],
   "environmentMetadata": {
    "base_environment": "",
    "environment_version": "3"
   },
   "inputWidgetPreferences": null,
   "language": "python",
   "notebookMetadata": {
    "pythonIndentUnit": 4
   },
   "notebookName": "01_bronze_ingestion",
   "widgets": {}
  },
  "language_info": {
   "name": "python"
  }
 },
 "nbformat": 4,
 "nbformat_minor": 0
}
